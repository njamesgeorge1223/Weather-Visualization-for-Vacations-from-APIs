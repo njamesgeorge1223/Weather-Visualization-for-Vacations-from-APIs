{
 "cells": [
  {
   "cell_type": "code",
   "execution_count": 1,
   "id": "d66537fc",
   "metadata": {},
   "outputs": [],
   "source": [
    "#*******************************************************************************************\n",
    " #\n",
    " #  File Name:  MarsNewsPy.ipynb\n",
    " #\n",
    " #  File Description:\n",
    " #      This interactive Python notebook, MarsNewsPy.ipynb, uses Python, Splinter, \n",
    " #      and Beautiful Soup to scrape titles and previews from news articles about \n",
    " #      Mars in a single website.\n",
    " #\n",
    " #      The following command in Mac Terminal will suppress the warning/information \n",
    " #      message upon launch of the Google Chrome browser:\n",
    " #\n",
    " #      xattr -d com.apple.quarantine /usr/local/bin/chromedriver\n",
    " #\n",
    " #\n",
    " #  Date            Description                             Programmer\n",
    " #  ----------      ------------------------------------    ------------------\n",
    " #  09/13/2023      Initial Development                     N. James George\n",
    " #\n",
    " #******************************************************************************************/\n",
    "\n",
    "import PyLogFunctions as log_function\n",
    "import PyLogSubRoutines as log_subroutine\n",
    "\n",
    "import json\n",
    "    \n",
    "from bs4 import BeautifulSoup as soup\n",
    "from splinter import Browser"
   ]
  },
  {
   "cell_type": "code",
   "execution_count": 2,
   "id": "1576113b",
   "metadata": {},
   "outputs": [],
   "source": [
    "CONSTANT_LOCAL_FILE_NAME \\\n",
    "    = 'MarsNewsPy.ipynb'\n",
    "\n",
    "CONSTANT_MARS_NEWS_URL \\\n",
    "    = 'https://static.bc-edx.com/data/web/mars_news/index.html'\n",
    "\n",
    "CONSTANT_MARS_NEWS_JSON_FILE \\\n",
    "    = './Resources/MarsNewsData.json'\n",
    "\n",
    "\n",
    "log_subroutine \\\n",
    "    .SetLogMode \\\n",
    "        (False)\n",
    "\n",
    "log_subroutine \\\n",
    "    .SetDebugMode \\\n",
    "        (False)\n",
    "\n",
    "log_subroutine \\\n",
    "    .SetImageMode \\\n",
    "        (False)\n",
    "\n",
    "\n",
    "log_subroutine \\\n",
    "    .BeginProgramExecution \\\n",
    "        ('MarsNewsPy')"
   ]
  },
  {
   "cell_type": "markdown",
   "id": "775589ce",
   "metadata": {},
   "source": [
    "# **Section 1: Visit the  [Mars News Website](https://static.bc-edx.com/data/web/mars_news/index.html)**"
   ]
  },
  {
   "cell_type": "markdown",
   "id": "6a46c713",
   "metadata": {},
   "source": [
    "## **Splinter Web Driver**"
   ]
  },
  {
   "cell_type": "code",
   "execution_count": 3,
   "id": "aa0ac7ec",
   "metadata": {},
   "outputs": [],
   "source": [
    "chromeBrowserSplinterWebDriver \\\n",
    "    = Browser \\\n",
    "        ('chrome')\n",
    "\n",
    "\n",
    "log_function \\\n",
    "    .DebugReturnObjectWriteObject \\\n",
    "        (chromeBrowserSplinterWebDriver)"
   ]
  },
  {
   "cell_type": "markdown",
   "id": "59374c43",
   "metadata": {},
   "source": [
    "## **Automated Browsing with Splinter for the [Mars News Website](https://static.bc-edx.com/data/web/mars_news/index.html)**"
   ]
  },
  {
   "cell_type": "code",
   "execution_count": 4,
   "id": "ff93bcf0",
   "metadata": {},
   "outputs": [],
   "source": [
    "chromeBrowserSplinterWebDriver \\\n",
    "    .visit \\\n",
    "        (CONSTANT_MARS_NEWS_URL)"
   ]
  },
  {
   "cell_type": "markdown",
   "id": "14580206",
   "metadata": {},
   "source": [
    "# **Section 2: Scrape the [Mars News Website](https://static.bc-edx.com/data/web/mars_news/index.html)**"
   ]
  },
  {
   "cell_type": "markdown",
   "id": "d6fd4178",
   "metadata": {},
   "source": [
    "## **Scrape HTML to String**"
   ]
  },
  {
   "cell_type": "code",
   "execution_count": 5,
   "id": "f97c09ef",
   "metadata": {},
   "outputs": [],
   "source": [
    "webPageHTMLStringVariable \\\n",
    "    = chromeBrowserSplinterWebDriver \\\n",
    "        .html\n",
    "\n",
    "\n",
    "log_function \\\n",
    "    .DebugReturnObjectWriteObject \\\n",
    "        (webPageHTMLStringVariable)"
   ]
  },
  {
   "cell_type": "markdown",
   "id": "909d5490",
   "metadata": {},
   "source": [
    "## **Beautiful Soup Object**"
   ]
  },
  {
   "cell_type": "code",
   "execution_count": 6,
   "id": "f1d5336e",
   "metadata": {},
   "outputs": [],
   "source": [
    "marsNewsBeautifulSoupObject \\\n",
    "    = soup \\\n",
    "        (webPageHTMLStringVariable, \n",
    "         'html.parser')\n",
    "\n",
    "\n",
    "log_function \\\n",
    "    .DebugReturnObjectWriteObject \\\n",
    "        (marsNewsBeautifulSoupObject)"
   ]
  },
  {
   "cell_type": "markdown",
   "id": "001d637b",
   "metadata": {},
   "source": [
    "## **Text Element Retrieval**"
   ]
  },
  {
   "cell_type": "code",
   "execution_count": 7,
   "id": "3e21bc1f",
   "metadata": {},
   "outputs": [],
   "source": [
    "textElementsBSResultSetObject \\\n",
    "    = marsNewsBeautifulSoupObject \\\n",
    "        .find_all \\\n",
    "            ('div', \n",
    "              class_ \\\n",
    "                 = 'list_text')\n",
    "\n",
    "\n",
    "log_function \\\n",
    "    .DebugReturnObjectWriteObject \\\n",
    "        (textElementsBSResultSetObject)"
   ]
  },
  {
   "cell_type": "markdown",
   "id": "fdf7167a",
   "metadata": {},
   "source": [
    "# **Section 2: Store the Results**"
   ]
  },
  {
   "cell_type": "markdown",
   "id": "e7f768e4",
   "metadata": {},
   "source": [
    "## **Text Extraction and Storage in Dictionary List**"
   ]
  },
  {
   "cell_type": "code",
   "execution_count": 8,
   "id": "baa3c7c0",
   "metadata": {},
   "outputs": [],
   "source": [
    "# This line of code creates an empty list to store the dictionaries holding title \n",
    "# and preview text.\n",
    "marsNewsDictionaryList \\\n",
    "    = []\n",
    "\n",
    "\n",
    "# This repetition loop moves through all the elements in the HTML.\n",
    "for htmlElement in textElementsBSResultSetObject:\n",
    "\n",
    "    # These lines of code extract the title and preview text from the HTML elements.\n",
    "    titleStringVariable \\\n",
    "        = htmlElement \\\n",
    "            .find \\\n",
    "                ('div',\n",
    "                 class_ \\\n",
    "                     = 'content_title') \\\n",
    "            .text\n",
    "    \n",
    "    previewStringVariable \\\n",
    "        = htmlElement \\\n",
    "            .find \\\n",
    "                ('div', \n",
    "                 class_ \\\n",
    "                     = 'article_teaser_body') \\\n",
    "            .text\n",
    "    \n",
    "    \n",
    "    # This line of code stores each title and preview in the temporary dictionary.\n",
    "    marsNewsDictionary \\\n",
    "        = {'Title': \n",
    "               titleStringVariable,\n",
    "           'Preview':\n",
    "               previewStringVariable}\n",
    "    \n",
    "    # This line of code appends the dictionary to the list of dictionaries.\n",
    "    marsNewsDictionaryList \\\n",
    "        .append \\\n",
    "            (marsNewsDictionary)\n",
    "    \n",
    "    \n",
    "log_function \\\n",
    "    .DebugReturnObjectWriteObject \\\n",
    "        (marsNewsDictionaryList)"
   ]
  },
  {
   "cell_type": "markdown",
   "id": "be04fc57",
   "metadata": {},
   "source": [
    "## **Display Dictionary List**"
   ]
  },
  {
   "cell_type": "code",
   "execution_count": 9,
   "id": "cea97de4",
   "metadata": {},
   "outputs": [
    {
     "name": "stdout",
     "output_type": "stream",
     "text": [
      "NEWS ARTICLE #1:\n",
      "TITLE: NASA's MAVEN Observes Martian Light Show Caused by Major Solar Storm\n",
      "PREVIEW: For the first time in its eight years orbiting Mars, NASA’s MAVEN mission witnessed two different types of ultraviolet aurorae simultaneously, the result of solar storms that began on Aug. 27.\n",
      "\n",
      "NEWS ARTICLE #2:\n",
      "TITLE: NASA Prepares to Say 'Farewell' to InSight Spacecraft\n",
      "PREVIEW: A closer look at what goes into wrapping up the mission as the spacecraft’s power supply continues to dwindle.\n",
      "\n",
      "NEWS ARTICLE #3:\n",
      "TITLE: NASA and ESA Agree on Next Steps to Return Mars Samples to Earth\n",
      "PREVIEW: The agency’s Perseverance rover will establish the first sample depot on Mars.\n",
      "\n",
      "NEWS ARTICLE #4:\n",
      "TITLE: NASA's InSight Lander Detects Stunning Meteoroid Impact on Mars\n",
      "PREVIEW: The agency’s lander felt the ground shake during the impact while cameras aboard the Mars Reconnaissance Orbiter spotted the yawning new crater from space.\n",
      "\n",
      "NEWS ARTICLE #5:\n",
      "TITLE: NASA To Host Briefing on InSight, Mars Reconnaissance Orbiter Findings\n",
      "PREVIEW: Scientists from two Mars missions will discuss how they combined images and data for a major finding on the Red Planet.\n",
      "\n",
      "NEWS ARTICLE #6:\n",
      "TITLE: Why NASA Is Trying To Crash Land on Mars\n",
      "PREVIEW: Like a car’s crumple zone, the experimental SHIELD lander is designed to absorb a hard impact.\n",
      "\n",
      "NEWS ARTICLE #7:\n",
      "TITLE: Curiosity Mars Rover Reaches Long-Awaited Salty Region\n",
      "PREVIEW: After years of climbing, the Mars rover has arrived at a special region believed to have formed as Mars’ climate was drying.\n",
      "\n",
      "NEWS ARTICLE #8:\n",
      "TITLE: Mars Mission Shields Up for Tests\n",
      "PREVIEW: Protecting Mars Sample Return spacecraft from micrometeorites requires high-caliber work.\n",
      "\n",
      "NEWS ARTICLE #9:\n",
      "TITLE: NASA's InSight Waits Out Dust Storm\n",
      "PREVIEW: InSight’s team is taking steps to help the solar-powered lander continue operating for as long as possible.\n",
      "\n",
      "NEWS ARTICLE #10:\n",
      "TITLE: NASA's InSight 'Hears' Its First Meteoroid Impacts on Mars\n",
      "PREVIEW: The Mars lander’s seismometer has picked up vibrations from four separate impacts in the past two years.\n",
      "\n",
      "NEWS ARTICLE #11:\n",
      "TITLE: NASA's Perseverance Rover Investigates Geologically Rich Mars Terrain\n",
      "PREVIEW: The latest findings provide greater detail on a region of the Red Planet that has a watery past and is yielding promising samples for the NASA-ESA Mars Sample Return campaign.\n",
      "\n",
      "NEWS ARTICLE #12:\n",
      "TITLE: NASA to Host Briefing on Perseverance Mars Rover Mission Operations\n",
      "PREVIEW: Members of the mission will discuss the rover’s activities as it gathers samples in an ancient river delta.\n",
      "\n",
      "NEWS ARTICLE #13:\n",
      "TITLE: NASA's Perseverance Makes New Discoveries in Mars' Jezero Crater\n",
      "PREVIEW: The rover found that Jezero Crater’s floor is made up of volcanic rocks that have interacted with water.\n",
      "\n",
      "NEWS ARTICLE #14:\n",
      "TITLE: 10 Years Since Landing, NASA's Curiosity Mars Rover Still Has Drive\n",
      "PREVIEW: Despite signs of wear, the intrepid spacecraft is about to start an exciting new chapter of its mission as it climbs a Martian mountain.\n",
      "\n",
      "NEWS ARTICLE #15:\n",
      "TITLE: SAM's Top 5 Discoveries Aboard NASA's Curiosity Rover at Mars\n",
      "PREVIEW: “Selfie” of the Curiosity rover with inset showing the SAM instrument prior to installation on the rover.\n",
      "\n"
     ]
    }
   ],
   "source": [
    "for index, marsNewsDictionary in enumerate(marsNewsDictionaryList):\n",
    "    log_subroutine \\\n",
    "        .PrintAndLogWriteText \\\n",
    "            (f'NEWS ARTICLE #{index + 1}:\\n'\n",
    "             + f\"TITLE: {marsNewsDictionary['Title']}\\n\" \\\n",
    "             + f\"PREVIEW: {marsNewsDictionary['Preview']}\\n\")"
   ]
  },
  {
   "cell_type": "markdown",
   "id": "34a5acc6",
   "metadata": {},
   "source": [
    "# **Section 3: Save the Data**"
   ]
  },
  {
   "cell_type": "markdown",
   "id": "1d545e0c",
   "metadata": {},
   "source": [
    "## **Export Dictionary List to JSON file**"
   ]
  },
  {
   "cell_type": "code",
   "execution_count": 10,
   "id": "96cbc1f6",
   "metadata": {},
   "outputs": [],
   "source": [
    "with open(CONSTANT_MARS_NEWS_JSON_FILE, 'w') as jsonFile:\n",
    "    \n",
    "    for dictionary in marsNewsDictionaryList:\n",
    "        \n",
    "        jsonDataString \\\n",
    "            = json \\\n",
    "                .dumps \\\n",
    "                    (dictionary)\n",
    "        \n",
    "        jsonFile \\\n",
    "            .write \\\n",
    "                (jsonDataString)\n",
    "        \n",
    "        \n",
    "    jsonFile \\\n",
    "        .close()"
   ]
  },
  {
   "cell_type": "markdown",
   "id": "c0fd594a",
   "metadata": {},
   "source": [
    "## **Close Browser**"
   ]
  },
  {
   "cell_type": "code",
   "execution_count": 11,
   "id": "e4d265e2",
   "metadata": {},
   "outputs": [],
   "source": [
    "chromeBrowserSplinterWebDriver \\\n",
    "    .quit()"
   ]
  },
  {
   "cell_type": "code",
   "execution_count": 12,
   "id": "25b36d53",
   "metadata": {},
   "outputs": [],
   "source": [
    "#log_subroutine \\\n",
    "#    .EndProgramExecution()"
   ]
  }
 ],
 "metadata": {
  "kernelspec": {
   "display_name": "Python 3 (ipykernel)",
   "language": "python",
   "name": "python3"
  },
  "language_info": {
   "codemirror_mode": {
    "name": "ipython",
    "version": 3
   },
   "file_extension": ".py",
   "mimetype": "text/x-python",
   "name": "python",
   "nbconvert_exporter": "python",
   "pygments_lexer": "ipython3",
   "version": "3.11.4"
  }
 },
 "nbformat": 4,
 "nbformat_minor": 5
}
