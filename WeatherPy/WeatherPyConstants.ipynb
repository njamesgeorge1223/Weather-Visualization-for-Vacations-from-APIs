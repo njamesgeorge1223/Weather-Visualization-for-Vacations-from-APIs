{
 "cells": [
  {
   "cell_type": "code",
   "execution_count": 1,
   "id": "0ddb8d92",
   "metadata": {},
   "outputs": [],
   "source": [
    "#*******************************************************************************************\n",
    " #\n",
    " #  File Name:  WeatherPyConstants.py\n",
    " #\n",
    " #  File Description:\n",
    " #      This Python script, WeatherPyConstants.py, contains generic Python constants\n",
    " #      for completing tasks in the Jupyter Notebook, WeatherPyConstants.ipynb.\n",
    " #\n",
    " #\n",
    " #  Date            Description                             Programmer\n",
    " #  ----------      ------------------------------------    ------------------\n",
    " #  08/24/2023      Initial Development                     N James George\n",
    " #\n",
    " #******************************************************************************************/"
   ]
  },
  {
   "cell_type": "code",
   "execution_count": 2,
   "id": "109c5d12",
   "metadata": {},
   "outputs": [],
   "source": [
    "CONSTANT_LOCAL_FILE_NAME \\\n",
    "    = 'WeatherPyConstants.py'"
   ]
  },
  {
   "cell_type": "code",
   "execution_count": 3,
   "id": "691c0c56",
   "metadata": {},
   "outputs": [],
   "source": [
    "OPEN_WEATHERMAP_WEBSITE \\\n",
    "    = 'http://api.openweathermap.org'\n",
    "\n",
    "API_DATA_UNITS \\\n",
    "    = 'imperial'\n",
    "\n",
    "SET_OF_CITIES \\\n",
    "    = 50\n",
    "\n",
    "WEATHER_DATA_FILE_PATH \\\n",
    "    = './Resources/CitiesWeather.csv'\n",
    "\n",
    "WEATHER_DATA_FILE_INDEX_NAME \\\n",
    "    = 'City ID'"
   ]
  }
 ],
 "metadata": {
  "kernelspec": {
   "display_name": "Python 3 (ipykernel)",
   "language": "python",
   "name": "python3"
  },
  "language_info": {
   "codemirror_mode": {
    "name": "ipython",
    "version": 3
   },
   "file_extension": ".py",
   "mimetype": "text/x-python",
   "name": "python",
   "nbconvert_exporter": "python",
   "pygments_lexer": "ipython3",
   "version": "3.11.3"
  }
 },
 "nbformat": 4,
 "nbformat_minor": 5
}
